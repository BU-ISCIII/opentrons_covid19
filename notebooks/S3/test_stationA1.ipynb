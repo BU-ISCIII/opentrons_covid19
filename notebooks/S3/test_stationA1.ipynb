{
 "cells": [
  {
   "cell_type": "code",
   "execution_count": 2,
   "metadata": {},
   "outputs": [
    {
     "name": "stderr",
     "output_type": "stream",
     "text": [
      "/home/smonzon/.opentrons/deck_calibration.json not found. Loading defaults\n",
      "/home/smonzon/.opentrons/robot_settings.json not found. Loading defaults\n",
      "/home/smonzon/.opentrons/deck_calibration.json not found. Loading defaults\n",
      "/home/smonzon/.opentrons/robot_settings.json not found. Loading defaults\n"
     ]
    },
    {
     "name": "stdout",
     "output_type": "stream",
     "text": [
      "Loading json containers...\n",
      "Json container file load complete, listing database\n",
      "Found 0 containers to add. Starting migration...\n",
      "Database migration complete!\n"
     ]
    }
   ],
   "source": [
    "from opentrons import simulate\n",
    "from opentrons.drivers.rpi_drivers import gpio\n",
    "import time\n",
    "import math\n",
    "\n",
    "ctx = simulate.get_protocol_api('2.1')\n",
    "\n",
    "buffer_rack = ctx.load_labware('opentrons_6_tuberack_falcon_50ml_conical', '10',\n",
    "        'buffer labware')\n",
    "dest_racks = [\n",
    "            ctx.load_labware('opentrons_24_tuberack_generic_2ml_screwcap', slot,\n",
    "                            'Destination tubes labware ' + str(i+1))\n",
    "            for i, slot in enumerate(['4', '1', '5', '2'])\n",
    "    ]"
   ]
  },
  {
   "cell_type": "code",
   "execution_count": 4,
   "metadata": {},
   "outputs": [
    {
     "name": "stdout",
     "output_type": "stream",
     "text": [
      "[[A1 of Destination tubes labware 1 on 4, B1 of Destination tubes labware 1 on 4, C1 of Destination tubes labware 1 on 4, D1 of Destination tubes labware 1 on 4]]\n",
      "A1 of buffer labware on 10\n",
      "[A1 of Destination tubes labware 1 on 4, B1 of Destination tubes labware 1 on 4, C1 of Destination tubes labware 1 on 4, D1 of Destination tubes labware 1 on 4]\n"
     ]
    }
   ],
   "source": [
    "bf_tubes = buffer_rack.wells()[:4]\n",
    "NUM_SAMPLES = 4\n",
    "\n",
    "number_racks = math.ceil(NUM_SAMPLES/len(dest_racks[0].wells()))\n",
    "\n",
    "dest_sets = [\n",
    "        [tube\n",
    "         for rack in dest_racks\n",
    "         for tube in rack.wells()\n",
    "        ][:NUM_SAMPLES][i*len(dest_racks[0].wells()):(i+1)*len(dest_racks[0].wells())]\n",
    "        for i in range(number_racks)\n",
    "        ]\n",
    "print(dest_sets)\n",
    "for bf_tube,dest in zip(bf_tubes,dest_sets):\n",
    "    print(bf_tube)\n",
    "    print(dest)"
   ]
  },
  {
   "cell_type": "code",
   "execution_count": 12,
   "metadata": {},
   "outputs": [],
   "source": [
    "max_trans_per_asp = 3  #230//(VOLUME_MMIX+5)\n",
    "split_ind = [ind for ind in range(0, len(dest), max_trans_per_asp)]\n",
    "dest_sets = [dest[split_ind[i]:split_ind[i+1]]\n",
    "             for i in range(len(split_ind)-1)] + [dest[split_ind[-1]:]]\n",
    "\n",
    "#dest_sets"
   ]
  },
  {
   "cell_type": "code",
   "execution_count": null,
   "metadata": {},
   "outputs": [],
   "source": [
    "def retrieve_tip_info(pip,tipracks,file_path = '/data/A/tip_log.json'):\n",
    "    tip_log = {}\n",
    "    if tip_log and not robot.is_simulating():\n",
    "        if os.path.isfile(file_path):\n",
    "            with open(file_path) as json_file:\n",
    "                data = json.load(json_file)\n",
    "                if 'tips1000' in data:\n",
    "                    tip_log['count'] = {pip: data['tips1000']}\n",
    "                else:\n",
    "                    tip_log['count'] = {pip: 0}\n",
    "    else:\n",
    "        tip_log['count'] = {pip: 0}\n",
    "\n",
    "    tip_log['tips'] = {\n",
    "        pip: [tip for rack in tipracks for tip in rack.wells()]}\n",
    "    tip_log['max'] = {pip: len(tip_log['tips'][pip])}\n",
    "\n",
    "    return tip_log\n",
    "\n",
    "def save_tip_info(pip, file_path = '/data/A/tip_log.json'):\n",
    "    if not robot.is_simulating():\n",
    "        data = {'tips1000': tip_log['count'][pip]}\n",
    "        with open(file_path, 'w') as outfile:\n",
    "            json.dump(data, outfile)\n",
    "\n",
    "def pick_up(pip,tiprack):\n",
    "    ## retrieve tip_log\n",
    "    global tip_log\n",
    "    tip_log = retrieve_tip_info(pip,tiprack)\n",
    "    if tip_log['count'][pip] == tip_log['max'][pip]:\n",
    "        robot.pause('Replace ' + str(pip.max_volume) + 'µl tipracks before \\\n",
    "resuming.')\n",
    "        pip.reset_tipracks()\n",
    "        tip_log['count'][pip] = 0\n",
    "    tip_log['count'][pip] += 1\n",
    "    pip.pick_up_tip(tip_log['tips'][pip][tip_log['count'][pip]])\n",
    "    \n",
    "    \n"
   ]
  }
 ],
 "metadata": {
  "kernelspec": {
   "display_name": "Python 3",
   "language": "python",
   "name": "python3"
  },
  "language_info": {
   "codemirror_mode": {
    "name": "ipython",
    "version": 3
   },
   "file_extension": ".py",
   "mimetype": "text/x-python",
   "name": "python",
   "nbconvert_exporter": "python",
   "pygments_lexer": "ipython3",
   "version": "3.8.2"
  }
 },
 "nbformat": 4,
 "nbformat_minor": 4
}
